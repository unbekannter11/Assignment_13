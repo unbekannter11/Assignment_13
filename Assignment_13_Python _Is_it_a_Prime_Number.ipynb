{
 "cells": [
  {
   "cell_type": "code",
   "execution_count": 9,
   "id": "52071bb6",
   "metadata": {},
   "outputs": [
    {
     "name": "stdout",
     "output_type": "stream",
     "text": [
      "Enter a number :11\n",
      "input → 11  ⇉ output : 11 is a prime number\n"
     ]
    }
   ],
   "source": [
    "number = int(input(\"Enter a number :\"))\n",
    "n = 0\n",
    "\n",
    "if number > 1:\n",
    "    for i in range(2, number):\n",
    "        if (number % i) == 0:\n",
    "            n = 1\n",
    "            break\n",
    "if n == 0:\n",
    "    print(f\"input → {number}  ⇉ output : {number} is a prime number\")\n",
    "else:\n",
    "    print(f\"input → {number}  ⇉ output : {number} is a not prime number\")"
   ]
  }
 ],
 "metadata": {
  "kernelspec": {
   "display_name": "Python 3 (ipykernel)",
   "language": "python",
   "name": "python3"
  },
  "language_info": {
   "codemirror_mode": {
    "name": "ipython",
    "version": 3
   },
   "file_extension": ".py",
   "mimetype": "text/x-python",
   "name": "python",
   "nbconvert_exporter": "python",
   "pygments_lexer": "ipython3",
   "version": "3.9.13"
  }
 },
 "nbformat": 4,
 "nbformat_minor": 5
}
